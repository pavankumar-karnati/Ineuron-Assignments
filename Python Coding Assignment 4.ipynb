{
 "cells": [
  {
   "cell_type": "code",
   "execution_count": 1,
   "metadata": {},
   "outputs": [
    {
     "name": "stdout",
     "output_type": "stream",
     "text": [
      "5\n",
      "120\n"
     ]
    }
   ],
   "source": [
    "# 1.\tWrite a Python Program to Find the Factorial of a Number?\n",
    "\n",
    "N=int(input())\n",
    "fact=1\n",
    "for i in range(1,N+1):\n",
    "    fact=fact*i\n",
    "print(fact)\n"
   ]
  },
  {
   "cell_type": "code",
   "execution_count": 7,
   "metadata": {},
   "outputs": [
    {
     "name": "stdout",
     "output_type": "stream",
     "text": [
      "Enter which table to display: 4\n",
      "table values upto: 10\n",
      "4  * 1  =  4\n",
      "4  * 2  =  8\n",
      "4  * 3  =  12\n",
      "4  * 4  =  16\n",
      "4  * 5  =  20\n",
      "4  * 6  =  24\n",
      "4  * 7  =  28\n",
      "4  * 8  =  32\n",
      "4  * 9  =  36\n",
      "4  * 10  =  40\n"
     ]
    }
   ],
   "source": [
    "# 2.\tWrite a Python Program to Display the multiplication Table?\n",
    "\n",
    "Table=int(input(\"Enter which table to display: \"))\n",
    "N=int(input(\"table values upto: \"))\n",
    "\n",
    "for i in range(1,N+1):\n",
    "    print(\"{} \".format(Table), \"* {} \".format(i),\"= \",Table*i)"
   ]
  },
  {
   "cell_type": "code",
   "execution_count": 11,
   "metadata": {},
   "outputs": [
    {
     "name": "stdout",
     "output_type": "stream",
     "text": [
      "10\n",
      "1 1 2 3 5 8 13 21 34 55 "
     ]
    }
   ],
   "source": [
    "# 3.\tWrite a Python Program to Print the Fibonacci sequence?\n",
    "\n",
    "N=int(input())\n",
    "a=0\n",
    "b=1\n",
    "\n",
    "for i in range(0,N):\n",
    "    c=a+b\n",
    "    b=a\n",
    "    a=c\n",
    "    print(c, end=\" \")\n"
   ]
  },
  {
   "cell_type": "code",
   "execution_count": 38,
   "metadata": {},
   "outputs": [
    {
     "name": "stdout",
     "output_type": "stream",
     "text": [
      "153\n",
      "153\n",
      "Amstrong Number\n"
     ]
    }
   ],
   "source": [
    "# 4.\tWrite a Python Program to Check Armstrong Number?\n",
    "\n",
    "N=int(input())\n",
    "Check=N\n",
    "sum=0\n",
    "while N > 0:\n",
    "    rem=N%10\n",
    "    sum=sum+(rem**3)\n",
    "    N=int(N/10) \n",
    "print(sum)\n",
    "if Check==sum:\n",
    "    print(\"Amstrong Number\")"
   ]
  },
  {
   "cell_type": "code",
   "execution_count": 42,
   "metadata": {},
   "outputs": [
    {
     "name": "stdout",
     "output_type": "stream",
     "text": [
      "2\n",
      "1000\n",
      "153  is a Amstrong Number\n",
      "370  is a Amstrong Number\n",
      "371  is a Amstrong Number\n",
      "407  is a Amstrong Number\n"
     ]
    }
   ],
   "source": [
    "# 5.\tWrite a Python Program to Find Armstrong Number in an Interval?\n",
    "\n",
    "N1=int(input())\n",
    "N2=int(input())\n",
    "\n",
    "for i in range(N1,N2+1):\n",
    "    Check=i\n",
    "    sum=0\n",
    "    while i > 0:\n",
    "        rem=i%10\n",
    "        sum=sum+(rem**3)\n",
    "        i=int(i/10) \n",
    "\n",
    "    if Check==sum:\n",
    "        print(Check, \" is a Amstrong Number\")"
   ]
  },
  {
   "cell_type": "code",
   "execution_count": 45,
   "metadata": {},
   "outputs": [
    {
     "name": "stdout",
     "output_type": "stream",
     "text": [
      "enter a value to print sum of natural number:10\n",
      "55\n"
     ]
    }
   ],
   "source": [
    "# 6.\tWrite a Python Program to Find the Sum of Natural Numbers?\n",
    "\n",
    "N=int(input(\"enter a value to print sum of natural number:\"))\n",
    "sum=0\n",
    "for i in range(1,N+1):\n",
    "    sum=sum+i\n",
    "print(sum)"
   ]
  },
  {
   "cell_type": "code",
   "execution_count": null,
   "metadata": {},
   "outputs": [],
   "source": []
  }
 ],
 "metadata": {
  "kernelspec": {
   "display_name": "Python 3",
   "language": "python",
   "name": "python3"
  },
  "language_info": {
   "codemirror_mode": {
    "name": "ipython",
    "version": 3
   },
   "file_extension": ".py",
   "mimetype": "text/x-python",
   "name": "python",
   "nbconvert_exporter": "python",
   "pygments_lexer": "ipython3",
   "version": "3.8.5"
  }
 },
 "nbformat": 4,
 "nbformat_minor": 4
}
